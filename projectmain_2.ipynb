{
  "cells": [
    {
      "cell_type": "code",
      "source": [
        "from google.colab import drive\n",
        "drive.mount('/content/drive')"
      ],
      "metadata": {
        "colab": {
          "base_uri": "https://localhost:8080/"
        },
        "id": "MTWJcJgHNiuZ",
        "outputId": "95cff29b-61bf-469a-a8cc-ebc68093bbfb"
      },
      "id": "MTWJcJgHNiuZ",
      "execution_count": 14,
      "outputs": [
        {
          "output_type": "stream",
          "name": "stdout",
          "text": [
            "Drive already mounted at /content/drive; to attempt to forcibly remount, call drive.mount(\"/content/drive\", force_remount=True).\n"
          ]
        }
      ]
    },
    {
      "cell_type": "code",
      "source": [
        "cd /content/drive/MyDrive/SML"
      ],
      "metadata": {
        "colab": {
          "base_uri": "https://localhost:8080/"
        },
        "id": "aP4z8msVNjTM",
        "outputId": "9b34e5b3-8445-4972-efde-291613865155"
      },
      "id": "aP4z8msVNjTM",
      "execution_count": 15,
      "outputs": [
        {
          "output_type": "stream",
          "name": "stdout",
          "text": [
            "/content/drive/MyDrive/SML\n"
          ]
        }
      ]
    },
    {
      "cell_type": "code",
      "id": "initial_id",
      "metadata": {
        "collapsed": true,
        "ExecuteTime": {
          "end_time": "2024-09-30T09:22:19.929424Z",
          "start_time": "2024-09-30T09:22:19.926290Z"
        },
        "id": "initial_id"
      },
      "source": [
        "# here for libs\n",
        "import pandas as pd"
      ],
      "outputs": [],
      "execution_count": 16
    },
    {
      "metadata": {
        "ExecuteTime": {
          "end_time": "2024-09-30T09:22:23.045844Z",
          "start_time": "2024-09-30T09:22:19.952814Z"
        },
        "colab": {
          "base_uri": "https://localhost:8080/"
        },
        "id": "7f4792a7fa3563f3",
        "outputId": "1c0a2a26-f264-415f-ed65-e306ffdac3ba"
      },
      "cell_type": "code",
      "source": [
        "# NVIDIA CUDA\n",
        "import torch\n",
        "if torch.cuda.is_available():\n",
        "    print(\"CUDA is available.\")\n",
        "\n",
        "    num_gpus = torch.cuda.device_count()\n",
        "    print(f\"Number of available GPUs: {num_gpus}\")\n",
        "\n",
        "    for i in range(num_gpus):\n",
        "        print(f\"GPU {i}: {torch.cuda.get_device_name(i)}\")\n",
        "\n",
        "    print(f\"Current GPU device: {torch.cuda.current_device()}\")\n",
        "else:\n",
        "    print(\"CUDA is not available. Running on CPU.\")\n"
      ],
      "id": "7f4792a7fa3563f3",
      "outputs": [
        {
          "output_type": "stream",
          "name": "stdout",
          "text": [
            "CUDA is available.\n",
            "Number of available GPUs: 1\n",
            "GPU 0: Tesla T4\n",
            "Current GPU device: 0\n"
          ]
        }
      ],
      "execution_count": 17
    },
    {
      "metadata": {
        "id": "5ac9c3a4785c1b17"
      },
      "cell_type": "markdown",
      "source": [
        "Project plan:\n",
        "https://docs.google.com/document/d/1o2FlMo1je0yv7LeCV_mMHfmbbjH_XfzrfiKAefOh450/edit"
      ],
      "id": "5ac9c3a4785c1b17"
    },
    {
      "metadata": {
        "ExecuteTime": {
          "end_time": "2024-09-30T09:22:23.565116Z",
          "start_time": "2024-09-30T09:22:23.400873Z"
        },
        "colab": {
          "base_uri": "https://localhost:8080/",
          "height": 429
        },
        "id": "c5c094fc7693d888",
        "outputId": "a1ab427c-6d05-49f9-cbc0-75de9caa459a"
      },
      "cell_type": "code",
      "source": [
        "#data import\n",
        "data = pd.read_csv('./dataset/diabetes_dataset00.csv')\n",
        "data.head()"
      ],
      "id": "c5c094fc7693d888",
      "outputs": [
        {
          "output_type": "execute_result",
          "data": {
            "text/plain": [
              "                             Target Genetic Markers Autoantibodies  \\\n",
              "0          Steroid-Induced Diabetes        Positive       Negative   \n",
              "1  Neonatal Diabetes Mellitus (NDM)        Positive       Negative   \n",
              "2                       Prediabetic        Positive       Positive   \n",
              "3                   Type 1 Diabetes        Negative       Positive   \n",
              "4                  Wolfram Syndrome        Negative       Negative   \n",
              "\n",
              "  Family History Environmental Factors  Insulin Levels  Age  BMI  \\\n",
              "0             No               Present              40   44   38   \n",
              "1             No               Present              13    1   17   \n",
              "2            Yes               Present              27   36   24   \n",
              "3             No               Present               8    7   16   \n",
              "4            Yes               Present              17   10   17   \n",
              "\n",
              "  Physical Activity Dietary Habits  ...  Pulmonary Function  \\\n",
              "0              High        Healthy  ...                  76   \n",
              "1              High        Healthy  ...                  60   \n",
              "2              High      Unhealthy  ...                  80   \n",
              "3               Low      Unhealthy  ...                  89   \n",
              "4              High        Healthy  ...                  41   \n",
              "\n",
              "   Cystic Fibrosis Diagnosis  Steroid Use History  Genetic Testing  \\\n",
              "0                         No                   No         Positive   \n",
              "1                        Yes                   No         Negative   \n",
              "2                        Yes                   No         Negative   \n",
              "3                        Yes                   No         Positive   \n",
              "4                         No                   No         Positive   \n",
              "\n",
              "  Neurological Assessments Liver Function Tests Digestive Enzyme Levels  \\\n",
              "0                        3               Normal                      56   \n",
              "1                        1               Normal                      28   \n",
              "2                        1             Abnormal                      55   \n",
              "3                        2             Abnormal                      60   \n",
              "4                        1               Normal                      24   \n",
              "\n",
              "        Urine Test Birth Weight Early Onset Symptoms  \n",
              "0  Ketones Present         2629                   No  \n",
              "1  Glucose Present         1881                  Yes  \n",
              "2  Ketones Present         3622                  Yes  \n",
              "3  Ketones Present         3542                   No  \n",
              "4  Protein Present         1770                   No  \n",
              "\n",
              "[5 rows x 34 columns]"
            ],
            "text/html": [
              "\n",
              "  <div id=\"df-67acaa14-8d62-4667-8b6c-f6ee5395879e\" class=\"colab-df-container\">\n",
              "    <div>\n",
              "<style scoped>\n",
              "    .dataframe tbody tr th:only-of-type {\n",
              "        vertical-align: middle;\n",
              "    }\n",
              "\n",
              "    .dataframe tbody tr th {\n",
              "        vertical-align: top;\n",
              "    }\n",
              "\n",
              "    .dataframe thead th {\n",
              "        text-align: right;\n",
              "    }\n",
              "</style>\n",
              "<table border=\"1\" class=\"dataframe\">\n",
              "  <thead>\n",
              "    <tr style=\"text-align: right;\">\n",
              "      <th></th>\n",
              "      <th>Target</th>\n",
              "      <th>Genetic Markers</th>\n",
              "      <th>Autoantibodies</th>\n",
              "      <th>Family History</th>\n",
              "      <th>Environmental Factors</th>\n",
              "      <th>Insulin Levels</th>\n",
              "      <th>Age</th>\n",
              "      <th>BMI</th>\n",
              "      <th>Physical Activity</th>\n",
              "      <th>Dietary Habits</th>\n",
              "      <th>...</th>\n",
              "      <th>Pulmonary Function</th>\n",
              "      <th>Cystic Fibrosis Diagnosis</th>\n",
              "      <th>Steroid Use History</th>\n",
              "      <th>Genetic Testing</th>\n",
              "      <th>Neurological Assessments</th>\n",
              "      <th>Liver Function Tests</th>\n",
              "      <th>Digestive Enzyme Levels</th>\n",
              "      <th>Urine Test</th>\n",
              "      <th>Birth Weight</th>\n",
              "      <th>Early Onset Symptoms</th>\n",
              "    </tr>\n",
              "  </thead>\n",
              "  <tbody>\n",
              "    <tr>\n",
              "      <th>0</th>\n",
              "      <td>Steroid-Induced Diabetes</td>\n",
              "      <td>Positive</td>\n",
              "      <td>Negative</td>\n",
              "      <td>No</td>\n",
              "      <td>Present</td>\n",
              "      <td>40</td>\n",
              "      <td>44</td>\n",
              "      <td>38</td>\n",
              "      <td>High</td>\n",
              "      <td>Healthy</td>\n",
              "      <td>...</td>\n",
              "      <td>76</td>\n",
              "      <td>No</td>\n",
              "      <td>No</td>\n",
              "      <td>Positive</td>\n",
              "      <td>3</td>\n",
              "      <td>Normal</td>\n",
              "      <td>56</td>\n",
              "      <td>Ketones Present</td>\n",
              "      <td>2629</td>\n",
              "      <td>No</td>\n",
              "    </tr>\n",
              "    <tr>\n",
              "      <th>1</th>\n",
              "      <td>Neonatal Diabetes Mellitus (NDM)</td>\n",
              "      <td>Positive</td>\n",
              "      <td>Negative</td>\n",
              "      <td>No</td>\n",
              "      <td>Present</td>\n",
              "      <td>13</td>\n",
              "      <td>1</td>\n",
              "      <td>17</td>\n",
              "      <td>High</td>\n",
              "      <td>Healthy</td>\n",
              "      <td>...</td>\n",
              "      <td>60</td>\n",
              "      <td>Yes</td>\n",
              "      <td>No</td>\n",
              "      <td>Negative</td>\n",
              "      <td>1</td>\n",
              "      <td>Normal</td>\n",
              "      <td>28</td>\n",
              "      <td>Glucose Present</td>\n",
              "      <td>1881</td>\n",
              "      <td>Yes</td>\n",
              "    </tr>\n",
              "    <tr>\n",
              "      <th>2</th>\n",
              "      <td>Prediabetic</td>\n",
              "      <td>Positive</td>\n",
              "      <td>Positive</td>\n",
              "      <td>Yes</td>\n",
              "      <td>Present</td>\n",
              "      <td>27</td>\n",
              "      <td>36</td>\n",
              "      <td>24</td>\n",
              "      <td>High</td>\n",
              "      <td>Unhealthy</td>\n",
              "      <td>...</td>\n",
              "      <td>80</td>\n",
              "      <td>Yes</td>\n",
              "      <td>No</td>\n",
              "      <td>Negative</td>\n",
              "      <td>1</td>\n",
              "      <td>Abnormal</td>\n",
              "      <td>55</td>\n",
              "      <td>Ketones Present</td>\n",
              "      <td>3622</td>\n",
              "      <td>Yes</td>\n",
              "    </tr>\n",
              "    <tr>\n",
              "      <th>3</th>\n",
              "      <td>Type 1 Diabetes</td>\n",
              "      <td>Negative</td>\n",
              "      <td>Positive</td>\n",
              "      <td>No</td>\n",
              "      <td>Present</td>\n",
              "      <td>8</td>\n",
              "      <td>7</td>\n",
              "      <td>16</td>\n",
              "      <td>Low</td>\n",
              "      <td>Unhealthy</td>\n",
              "      <td>...</td>\n",
              "      <td>89</td>\n",
              "      <td>Yes</td>\n",
              "      <td>No</td>\n",
              "      <td>Positive</td>\n",
              "      <td>2</td>\n",
              "      <td>Abnormal</td>\n",
              "      <td>60</td>\n",
              "      <td>Ketones Present</td>\n",
              "      <td>3542</td>\n",
              "      <td>No</td>\n",
              "    </tr>\n",
              "    <tr>\n",
              "      <th>4</th>\n",
              "      <td>Wolfram Syndrome</td>\n",
              "      <td>Negative</td>\n",
              "      <td>Negative</td>\n",
              "      <td>Yes</td>\n",
              "      <td>Present</td>\n",
              "      <td>17</td>\n",
              "      <td>10</td>\n",
              "      <td>17</td>\n",
              "      <td>High</td>\n",
              "      <td>Healthy</td>\n",
              "      <td>...</td>\n",
              "      <td>41</td>\n",
              "      <td>No</td>\n",
              "      <td>No</td>\n",
              "      <td>Positive</td>\n",
              "      <td>1</td>\n",
              "      <td>Normal</td>\n",
              "      <td>24</td>\n",
              "      <td>Protein Present</td>\n",
              "      <td>1770</td>\n",
              "      <td>No</td>\n",
              "    </tr>\n",
              "  </tbody>\n",
              "</table>\n",
              "<p>5 rows × 34 columns</p>\n",
              "</div>\n",
              "    <div class=\"colab-df-buttons\">\n",
              "\n",
              "  <div class=\"colab-df-container\">\n",
              "    <button class=\"colab-df-convert\" onclick=\"convertToInteractive('df-67acaa14-8d62-4667-8b6c-f6ee5395879e')\"\n",
              "            title=\"Convert this dataframe to an interactive table.\"\n",
              "            style=\"display:none;\">\n",
              "\n",
              "  <svg xmlns=\"http://www.w3.org/2000/svg\" height=\"24px\" viewBox=\"0 -960 960 960\">\n",
              "    <path d=\"M120-120v-720h720v720H120Zm60-500h600v-160H180v160Zm220 220h160v-160H400v160Zm0 220h160v-160H400v160ZM180-400h160v-160H180v160Zm440 0h160v-160H620v160ZM180-180h160v-160H180v160Zm440 0h160v-160H620v160Z\"/>\n",
              "  </svg>\n",
              "    </button>\n",
              "\n",
              "  <style>\n",
              "    .colab-df-container {\n",
              "      display:flex;\n",
              "      gap: 12px;\n",
              "    }\n",
              "\n",
              "    .colab-df-convert {\n",
              "      background-color: #E8F0FE;\n",
              "      border: none;\n",
              "      border-radius: 50%;\n",
              "      cursor: pointer;\n",
              "      display: none;\n",
              "      fill: #1967D2;\n",
              "      height: 32px;\n",
              "      padding: 0 0 0 0;\n",
              "      width: 32px;\n",
              "    }\n",
              "\n",
              "    .colab-df-convert:hover {\n",
              "      background-color: #E2EBFA;\n",
              "      box-shadow: 0px 1px 2px rgba(60, 64, 67, 0.3), 0px 1px 3px 1px rgba(60, 64, 67, 0.15);\n",
              "      fill: #174EA6;\n",
              "    }\n",
              "\n",
              "    .colab-df-buttons div {\n",
              "      margin-bottom: 4px;\n",
              "    }\n",
              "\n",
              "    [theme=dark] .colab-df-convert {\n",
              "      background-color: #3B4455;\n",
              "      fill: #D2E3FC;\n",
              "    }\n",
              "\n",
              "    [theme=dark] .colab-df-convert:hover {\n",
              "      background-color: #434B5C;\n",
              "      box-shadow: 0px 1px 3px 1px rgba(0, 0, 0, 0.15);\n",
              "      filter: drop-shadow(0px 1px 2px rgba(0, 0, 0, 0.3));\n",
              "      fill: #FFFFFF;\n",
              "    }\n",
              "  </style>\n",
              "\n",
              "    <script>\n",
              "      const buttonEl =\n",
              "        document.querySelector('#df-67acaa14-8d62-4667-8b6c-f6ee5395879e button.colab-df-convert');\n",
              "      buttonEl.style.display =\n",
              "        google.colab.kernel.accessAllowed ? 'block' : 'none';\n",
              "\n",
              "      async function convertToInteractive(key) {\n",
              "        const element = document.querySelector('#df-67acaa14-8d62-4667-8b6c-f6ee5395879e');\n",
              "        const dataTable =\n",
              "          await google.colab.kernel.invokeFunction('convertToInteractive',\n",
              "                                                    [key], {});\n",
              "        if (!dataTable) return;\n",
              "\n",
              "        const docLinkHtml = 'Like what you see? Visit the ' +\n",
              "          '<a target=\"_blank\" href=https://colab.research.google.com/notebooks/data_table.ipynb>data table notebook</a>'\n",
              "          + ' to learn more about interactive tables.';\n",
              "        element.innerHTML = '';\n",
              "        dataTable['output_type'] = 'display_data';\n",
              "        await google.colab.output.renderOutput(dataTable, element);\n",
              "        const docLink = document.createElement('div');\n",
              "        docLink.innerHTML = docLinkHtml;\n",
              "        element.appendChild(docLink);\n",
              "      }\n",
              "    </script>\n",
              "  </div>\n",
              "\n",
              "\n",
              "<div id=\"df-47c2b4e5-8d42-4feb-9594-a7b7e69a5903\">\n",
              "  <button class=\"colab-df-quickchart\" onclick=\"quickchart('df-47c2b4e5-8d42-4feb-9594-a7b7e69a5903')\"\n",
              "            title=\"Suggest charts\"\n",
              "            style=\"display:none;\">\n",
              "\n",
              "<svg xmlns=\"http://www.w3.org/2000/svg\" height=\"24px\"viewBox=\"0 0 24 24\"\n",
              "     width=\"24px\">\n",
              "    <g>\n",
              "        <path d=\"M19 3H5c-1.1 0-2 .9-2 2v14c0 1.1.9 2 2 2h14c1.1 0 2-.9 2-2V5c0-1.1-.9-2-2-2zM9 17H7v-7h2v7zm4 0h-2V7h2v10zm4 0h-2v-4h2v4z\"/>\n",
              "    </g>\n",
              "</svg>\n",
              "  </button>\n",
              "\n",
              "<style>\n",
              "  .colab-df-quickchart {\n",
              "      --bg-color: #E8F0FE;\n",
              "      --fill-color: #1967D2;\n",
              "      --hover-bg-color: #E2EBFA;\n",
              "      --hover-fill-color: #174EA6;\n",
              "      --disabled-fill-color: #AAA;\n",
              "      --disabled-bg-color: #DDD;\n",
              "  }\n",
              "\n",
              "  [theme=dark] .colab-df-quickchart {\n",
              "      --bg-color: #3B4455;\n",
              "      --fill-color: #D2E3FC;\n",
              "      --hover-bg-color: #434B5C;\n",
              "      --hover-fill-color: #FFFFFF;\n",
              "      --disabled-bg-color: #3B4455;\n",
              "      --disabled-fill-color: #666;\n",
              "  }\n",
              "\n",
              "  .colab-df-quickchart {\n",
              "    background-color: var(--bg-color);\n",
              "    border: none;\n",
              "    border-radius: 50%;\n",
              "    cursor: pointer;\n",
              "    display: none;\n",
              "    fill: var(--fill-color);\n",
              "    height: 32px;\n",
              "    padding: 0;\n",
              "    width: 32px;\n",
              "  }\n",
              "\n",
              "  .colab-df-quickchart:hover {\n",
              "    background-color: var(--hover-bg-color);\n",
              "    box-shadow: 0 1px 2px rgba(60, 64, 67, 0.3), 0 1px 3px 1px rgba(60, 64, 67, 0.15);\n",
              "    fill: var(--button-hover-fill-color);\n",
              "  }\n",
              "\n",
              "  .colab-df-quickchart-complete:disabled,\n",
              "  .colab-df-quickchart-complete:disabled:hover {\n",
              "    background-color: var(--disabled-bg-color);\n",
              "    fill: var(--disabled-fill-color);\n",
              "    box-shadow: none;\n",
              "  }\n",
              "\n",
              "  .colab-df-spinner {\n",
              "    border: 2px solid var(--fill-color);\n",
              "    border-color: transparent;\n",
              "    border-bottom-color: var(--fill-color);\n",
              "    animation:\n",
              "      spin 1s steps(1) infinite;\n",
              "  }\n",
              "\n",
              "  @keyframes spin {\n",
              "    0% {\n",
              "      border-color: transparent;\n",
              "      border-bottom-color: var(--fill-color);\n",
              "      border-left-color: var(--fill-color);\n",
              "    }\n",
              "    20% {\n",
              "      border-color: transparent;\n",
              "      border-left-color: var(--fill-color);\n",
              "      border-top-color: var(--fill-color);\n",
              "    }\n",
              "    30% {\n",
              "      border-color: transparent;\n",
              "      border-left-color: var(--fill-color);\n",
              "      border-top-color: var(--fill-color);\n",
              "      border-right-color: var(--fill-color);\n",
              "    }\n",
              "    40% {\n",
              "      border-color: transparent;\n",
              "      border-right-color: var(--fill-color);\n",
              "      border-top-color: var(--fill-color);\n",
              "    }\n",
              "    60% {\n",
              "      border-color: transparent;\n",
              "      border-right-color: var(--fill-color);\n",
              "    }\n",
              "    80% {\n",
              "      border-color: transparent;\n",
              "      border-right-color: var(--fill-color);\n",
              "      border-bottom-color: var(--fill-color);\n",
              "    }\n",
              "    90% {\n",
              "      border-color: transparent;\n",
              "      border-bottom-color: var(--fill-color);\n",
              "    }\n",
              "  }\n",
              "</style>\n",
              "\n",
              "  <script>\n",
              "    async function quickchart(key) {\n",
              "      const quickchartButtonEl =\n",
              "        document.querySelector('#' + key + ' button');\n",
              "      quickchartButtonEl.disabled = true;  // To prevent multiple clicks.\n",
              "      quickchartButtonEl.classList.add('colab-df-spinner');\n",
              "      try {\n",
              "        const charts = await google.colab.kernel.invokeFunction(\n",
              "            'suggestCharts', [key], {});\n",
              "      } catch (error) {\n",
              "        console.error('Error during call to suggestCharts:', error);\n",
              "      }\n",
              "      quickchartButtonEl.classList.remove('colab-df-spinner');\n",
              "      quickchartButtonEl.classList.add('colab-df-quickchart-complete');\n",
              "    }\n",
              "    (() => {\n",
              "      let quickchartButtonEl =\n",
              "        document.querySelector('#df-47c2b4e5-8d42-4feb-9594-a7b7e69a5903 button');\n",
              "      quickchartButtonEl.style.display =\n",
              "        google.colab.kernel.accessAllowed ? 'block' : 'none';\n",
              "    })();\n",
              "  </script>\n",
              "</div>\n",
              "\n",
              "    </div>\n",
              "  </div>\n"
            ],
            "application/vnd.google.colaboratory.intrinsic+json": {
              "type": "dataframe",
              "variable_name": "data"
            }
          },
          "metadata": {},
          "execution_count": 18
        }
      ],
      "execution_count": 18
    },
    {
      "metadata": {
        "id": "d21af4f87de70822"
      },
      "cell_type": "markdown",
      "source": [
        "## 1.Preprocessing\n"
      ],
      "id": "d21af4f87de70822"
    },
    {
      "metadata": {
        "ExecuteTime": {
          "end_time": "2024-09-30T09:22:23.664342Z",
          "start_time": "2024-09-30T09:22:23.620300Z"
        },
        "colab": {
          "base_uri": "https://localhost:8080/",
          "height": 84
        },
        "id": "c1beda73b90b8707",
        "outputId": "89d4b07c-ef7f-404d-9cca-22c37ac41f5b"
      },
      "cell_type": "code",
      "source": [
        "##check missing data\n",
        "missing_values = data.isnull().sum()\n",
        "missing_values[missing_values > 0]\n"
      ],
      "id": "c1beda73b90b8707",
      "outputs": [
        {
          "output_type": "execute_result",
          "data": {
            "text/plain": [
              "Series([], dtype: int64)"
            ],
            "text/html": [
              "<div>\n",
              "<style scoped>\n",
              "    .dataframe tbody tr th:only-of-type {\n",
              "        vertical-align: middle;\n",
              "    }\n",
              "\n",
              "    .dataframe tbody tr th {\n",
              "        vertical-align: top;\n",
              "    }\n",
              "\n",
              "    .dataframe thead th {\n",
              "        text-align: right;\n",
              "    }\n",
              "</style>\n",
              "<table border=\"1\" class=\"dataframe\">\n",
              "  <thead>\n",
              "    <tr style=\"text-align: right;\">\n",
              "      <th></th>\n",
              "      <th>0</th>\n",
              "    </tr>\n",
              "  </thead>\n",
              "  <tbody>\n",
              "  </tbody>\n",
              "</table>\n",
              "</div><br><label><b>dtype:</b> int64</label>"
            ]
          },
          "metadata": {},
          "execution_count": 19
        }
      ],
      "execution_count": 19
    },
    {
      "metadata": {
        "ExecuteTime": {
          "end_time": "2024-09-30T09:22:24.370579Z",
          "start_time": "2024-09-30T09:22:23.791591Z"
        },
        "id": "1c9c465a14908746"
      },
      "cell_type": "code",
      "source": [
        "##lable\n",
        "from sklearn.preprocessing import LabelEncoder\n",
        "\n",
        "\n",
        "le = LabelEncoder()\n",
        "\n",
        "\n",
        "categorical_columns = ['Genetic Markers', 'Autoantibodies', 'Family History' , 'Environmental Factors', 'Dietary Habits', 'Ethnicity', 'Socioeconomic Factors', 'Smoking Status', 'Alcohol Consumption', 'Glucose Tolerance Test', 'Previous Gestational Diabetes', 'Pregnancy History', 'Cystic Fibrosis Diagnosis', 'Environmental Factors', 'Steroid Use History', 'Genetic Testing', 'Liver Function Tests', 'Urine Test', 'Early Onset Symptoms', 'Physical Activity', 'History of PCOS', 'Target']\n",
        "\n",
        "\n",
        "for col in categorical_columns:\n",
        "    data[col] = le.fit_transform(data[col])\n",
        "\n",
        "output_file_path = './dataset/numeric_diabetes_dataset.csv'\n",
        "data.to_csv(output_file_path, index=False)\n",
        "\n",
        "\n",
        "\n",
        "data.head(50)\n",
        "\n",
        "X = data.drop('Target', axis=1)\n",
        "y = data['Target']\n",
        "\n",
        "\n"
      ],
      "id": "1c9c465a14908746",
      "outputs": [],
      "execution_count": 20
    },
    {
      "metadata": {
        "ExecuteTime": {
          "end_time": "2024-09-30T09:22:24.456262Z",
          "start_time": "2024-09-30T09:22:24.378225Z"
        },
        "colab": {
          "base_uri": "https://localhost:8080/"
        },
        "id": "95f68e3d138b8523",
        "outputId": "4931129f-cc9d-4330-a41d-1aa13829d191"
      },
      "cell_type": "code",
      "source": [
        "print(data.describe())\n"
      ],
      "id": "95f68e3d138b8523",
      "outputs": [
        {
          "output_type": "stream",
          "name": "stdout",
          "text": [
            "             Target  Genetic Markers  Autoantibodies  Family History  \\\n",
            "count  70000.000000     70000.000000    70000.000000    70000.000000   \n",
            "mean       5.989729         0.501443        0.499171        0.502400   \n",
            "std        3.737753         0.500001        0.500003        0.499998   \n",
            "min        0.000000         0.000000        0.000000        0.000000   \n",
            "25%        3.000000         0.000000        0.000000        0.000000   \n",
            "50%        6.000000         1.000000        0.000000        1.000000   \n",
            "75%        9.000000         1.000000        1.000000        1.000000   \n",
            "max       12.000000         1.000000        1.000000        1.000000   \n",
            "\n",
            "       Environmental Factors  Insulin Levels           Age           BMI  \\\n",
            "count           70000.000000    70000.000000  70000.000000  70000.000000   \n",
            "mean                0.498743       21.607443     32.020700     24.782943   \n",
            "std                 0.500002       10.785852     21.043173      6.014236   \n",
            "min                 0.000000        5.000000      0.000000     12.000000   \n",
            "25%                 0.000000       13.000000     14.000000     20.000000   \n",
            "50%                 0.000000       19.000000     31.000000     25.000000   \n",
            "75%                 1.000000       28.000000     49.000000     29.000000   \n",
            "max                 1.000000       49.000000     79.000000     39.000000   \n",
            "\n",
            "       Physical Activity  Dietary Habits  ...  Pulmonary Function  \\\n",
            "count       70000.000000    70000.000000  ...        70000.000000   \n",
            "mean            1.002886        0.499714  ...           70.264671   \n",
            "std             0.816369        0.500003  ...           11.965600   \n",
            "min             0.000000        0.000000  ...           30.000000   \n",
            "25%             0.000000        0.000000  ...           63.000000   \n",
            "50%             1.000000        0.000000  ...           72.000000   \n",
            "75%             2.000000        1.000000  ...           79.000000   \n",
            "max             2.000000        1.000000  ...           89.000000   \n",
            "\n",
            "       Cystic Fibrosis Diagnosis  Steroid Use History  Genetic Testing  \\\n",
            "count               70000.000000         70000.000000     70000.000000   \n",
            "mean                    0.498071             0.497971         0.504500   \n",
            "std                     0.500000             0.499999         0.499983   \n",
            "min                     0.000000             0.000000         0.000000   \n",
            "25%                     0.000000             0.000000         0.000000   \n",
            "50%                     0.000000             0.000000         1.000000   \n",
            "75%                     1.000000             1.000000         1.000000   \n",
            "max                     1.000000             1.000000         1.000000   \n",
            "\n",
            "       Neurological Assessments  Liver Function Tests  \\\n",
            "count              70000.000000          70000.000000   \n",
            "mean                   1.804157              0.500271   \n",
            "std                    0.680154              0.500003   \n",
            "min                    1.000000              0.000000   \n",
            "25%                    1.000000              0.000000   \n",
            "50%                    2.000000              1.000000   \n",
            "75%                    2.000000              1.000000   \n",
            "max                    3.000000              1.000000   \n",
            "\n",
            "       Digestive Enzyme Levels    Urine Test  Birth Weight  \\\n",
            "count             70000.000000  70000.000000  70000.000000   \n",
            "mean                 46.420529      1.505171   3097.061071   \n",
            "std                  19.391089      1.118669    713.837300   \n",
            "min                  10.000000      0.000000   1500.000000   \n",
            "25%                  31.000000      1.000000   2629.000000   \n",
            "50%                  48.000000      2.000000   3103.000000   \n",
            "75%                  61.000000      3.000000   3656.250000   \n",
            "max                  99.000000      3.000000   4499.000000   \n",
            "\n",
            "       Early Onset Symptoms  \n",
            "count          70000.000000  \n",
            "mean               0.499157  \n",
            "std                0.500003  \n",
            "min                0.000000  \n",
            "25%                0.000000  \n",
            "50%                0.000000  \n",
            "75%                1.000000  \n",
            "max                1.000000  \n",
            "\n",
            "[8 rows x 34 columns]\n"
          ]
        }
      ],
      "execution_count": 8
    },
    {
      "metadata": {
        "id": "48b53611c9a36cf9"
      },
      "cell_type": "markdown",
      "source": [
        "## 2.Validation methods"
      ],
      "id": "48b53611c9a36cf9"
    },
    {
      "metadata": {
        "id": "212e767daf192fda"
      },
      "cell_type": "markdown",
      "source": [
        "### 2.1 cross validation"
      ],
      "id": "212e767daf192fda"
    },
    {
      "metadata": {
        "ExecuteTime": {
          "end_time": "2024-09-30T09:22:24.487385Z",
          "start_time": "2024-09-30T09:22:24.482879Z"
        },
        "id": "8d422868444ea729"
      },
      "cell_type": "code",
      "source": [
        "import numpy as np\n",
        "\n",
        "def manual_train_test_split(X, y, test_size=0.2, random_state=None):\n",
        "    np.random.seed(random_state)\n",
        "    indices = np.random.permutation(len(X))\n",
        "    test_set_size = int(len(X) * test_size)\n",
        "    test_indices = indices[:test_set_size]\n",
        "    train_indices = indices[test_set_size:]\n",
        "\n",
        "\n",
        "    X_train = X.iloc[train_indices]\n",
        "    X_test = X.iloc[test_indices]\n",
        "    y_train = y.iloc[train_indices]\n",
        "    y_test = y.iloc[test_indices]\n",
        "\n",
        "    return X_train, X_test, y_train, y_test\n",
        "\n"
      ],
      "id": "8d422868444ea729",
      "outputs": [],
      "execution_count": 21
    },
    {
      "metadata": {
        "id": "3bd73d2b69c1f715"
      },
      "cell_type": "markdown",
      "source": [
        "### 2.2 k fold validation"
      ],
      "id": "3bd73d2b69c1f715"
    },
    {
      "metadata": {
        "id": "9ad32111e49b9393"
      },
      "cell_type": "markdown",
      "source": [],
      "id": "9ad32111e49b9393"
    },
    {
      "metadata": {
        "ExecuteTime": {
          "end_time": "2024-09-30T09:22:24.520077Z",
          "start_time": "2024-09-30T09:22:24.511569Z"
        },
        "colab": {
          "base_uri": "https://localhost:8080/"
        },
        "id": "405d53fbf8995f84",
        "outputId": "69656719-57cf-4264-8d3c-0b4877333908"
      },
      "cell_type": "code",
      "source": [
        "import numpy as np\n",
        "\n",
        "def manual_kfold(X, y, k=5, random_state=None):\n",
        "    np.random.seed(random_state)\n",
        "    indices = np.random.permutation(len(X))\n",
        "    fold_size = len(X) // k\n",
        "    folds = []\n",
        "\n",
        "    for i in range(k):\n",
        "        test_indices = indices[i*fold_size:(i+1)*fold_size]\n",
        "        train_indices = np.concatenate([indices[:i*fold_size], indices[(i+1)*fold_size:]])\n",
        "        folds.append((train_indices, test_indices))\n",
        "\n",
        "    return folds\n",
        "\n",
        "\n",
        "k_folds = manual_kfold(X, y, k=5, random_state=42)\n",
        "\n",
        "\n",
        "for i, (train_idx, test_idx) in enumerate(k_folds):\n",
        "    print(f\"Fold {i+1}: Train size = {len(train_idx)}, Test size = {len(test_idx)}\")\n"
      ],
      "id": "405d53fbf8995f84",
      "outputs": [
        {
          "output_type": "stream",
          "name": "stdout",
          "text": [
            "Fold 1: Train size = 56000, Test size = 14000\n",
            "Fold 2: Train size = 56000, Test size = 14000\n",
            "Fold 3: Train size = 56000, Test size = 14000\n",
            "Fold 4: Train size = 56000, Test size = 14000\n",
            "Fold 5: Train size = 56000, Test size = 14000\n"
          ]
        }
      ],
      "execution_count": 22
    },
    {
      "metadata": {
        "id": "9ddd6b6d7df6fda8"
      },
      "cell_type": "markdown",
      "source": [
        "### 2.3 Bootstrapping"
      ],
      "id": "9ddd6b6d7df6fda8"
    },
    {
      "metadata": {
        "ExecuteTime": {
          "end_time": "2024-09-30T09:22:24.586286Z",
          "start_time": "2024-09-30T09:22:24.563643Z"
        },
        "colab": {
          "base_uri": "https://localhost:8080/"
        },
        "id": "e554817496aa59af",
        "outputId": "588f2b96-59f6-4c90-f2fa-e3b3a653033f"
      },
      "cell_type": "code",
      "source": [
        "from sklearn.utils import resample\n",
        "\n",
        "\n",
        "X_train, y_train = resample(X, y, n_samples=len(X), random_state=42)\n",
        "\n",
        "\n",
        "X_val = X[~X.index.isin(X_train.index)]\n",
        "y_val = y[~y.index.isin(y_train.index)]\n",
        "\n",
        "print(f\"train size: {X_train.shape}, val size: {X_val.shape}\")\n"
      ],
      "id": "e554817496aa59af",
      "outputs": [
        {
          "output_type": "stream",
          "name": "stdout",
          "text": [
            "train size: (70000, 33), val size: (25795, 33)\n"
          ]
        }
      ],
      "execution_count": 11
    },
    {
      "metadata": {
        "id": "36629c0afab2358a"
      },
      "cell_type": "markdown",
      "source": [
        "## 3.ML algorithms and Experimental results"
      ],
      "id": "36629c0afab2358a"
    },
    {
      "metadata": {
        "id": "efc89c6152cc6710"
      },
      "cell_type": "markdown",
      "source": [
        "### 3.1 Simple algorithms: Random Forest"
      ],
      "id": "efc89c6152cc6710"
    },
    {
      "metadata": {
        "ExecuteTime": {
          "end_time": "2024-09-30T09:24:01.300484400Z",
          "start_time": "2024-09-30T09:23:54.109842Z"
        },
        "colab": {
          "base_uri": "https://localhost:8080/",
          "height": 1000
        },
        "id": "2a70a1bc22c32151",
        "outputId": "85c2dda6-a957-4f6f-f060-f6cddd9d4149"
      },
      "cell_type": "code",
      "source": [
        "import numpy as np\n",
        "import matplotlib.pyplot as plt\n",
        "import seaborn as sns\n",
        "from sklearn.ensemble import RandomForestClassifier\n",
        "from sklearn.metrics import confusion_matrix, classification_report, accuracy_score\n",
        "\n",
        "\n",
        "train_sizes = np.concatenate(([0.01], np.logspace(-1, 0, 3)))  # [0.01, 0.1, 0.5, 1.0]\n",
        "n_repeats = 20\n",
        "accuracies = []\n",
        "train_sizes_actual = []\n",
        "all_y_test = []\n",
        "all_y_pred = []\n",
        "\n",
        "\n",
        "experiments_per_size = n_repeats // len(train_sizes)\n",
        "\n",
        "\n",
        "for size in train_sizes:\n",
        "    for i in range(experiments_per_size):\n",
        "        X_train, X_test, y_train, y_test = manual_train_test_split(X, y, test_size=0.2, random_state=i)\n",
        "\n",
        "\n",
        "        subset_train_idx = X_train.index[:int(len(X_train) * size)]\n",
        "        X_train_subset = X_train.loc[subset_train_idx]\n",
        "        y_train_subset = y_train.loc[subset_train_idx]\n",
        "\n",
        "\n",
        "        model = RandomForestClassifier(n_estimators=200, random_state=42, max_depth=None)\n",
        "        model.fit(X_train_subset, y_train_subset)\n",
        "\n",
        "\n",
        "        y_pred = model.predict(X_test)\n",
        "        accuracy = accuracy_score(y_test, y_pred)\n",
        "        accuracies.append(accuracy)\n",
        "        train_sizes_actual.append(len(X_train_subset))\n",
        "\n",
        "\n",
        "        all_y_test.extend(y_test)\n",
        "        all_y_pred.extend(y_pred)\n",
        "\n",
        "        print(f\"Experiment with Train Size {len(X_train_subset)}: Accuracy = {accuracy:.3f}\")\n",
        "\n",
        "\n",
        "mean_accuracy = np.mean(accuracies)\n",
        "std_accuracy = np.std(accuracies)\n",
        "\n",
        "# learning curve\n",
        "plt.figure()\n",
        "plt.plot(train_sizes_actual, accuracies, marker='o', label='Accuracy')\n",
        "plt.title(\"Learning Curve with Train Sizes\")\n",
        "plt.xlabel(\"Training Size\")\n",
        "plt.ylabel(\"Accuracy\")\n",
        "plt.grid()\n",
        "plt.show()\n",
        "\n",
        "# Error bar\n",
        "plt.figure()\n",
        "plt.errorbar(x=train_sizes_actual, y=accuracies, yerr=std_accuracy, fmt='o', label='Accuracy with error bar')\n",
        "plt.title(\"Learning Curve with Error Bars\")\n",
        "plt.xlabel(\"Training Size\")\n",
        "plt.ylabel(\"Accuracy\")\n",
        "plt.grid()\n",
        "plt.show()\n",
        "\n",
        "#conf matrix\n",
        "conf_matrix = confusion_matrix(all_y_test, all_y_pred)\n",
        "plt.figure(figsize=(10, 8))\n",
        "sns.heatmap(conf_matrix, annot=True, fmt=\"d\", cmap=\"Blues\", xticklabels=np.unique(y), yticklabels=np.unique(y))\n",
        "plt.xlabel(\"Predicted\")\n",
        "plt.ylabel(\"Actual\")\n",
        "plt.title(\"Confusion Matrix\")\n",
        "plt.show()\n",
        "\n",
        "\n",
        "print(classification_report(all_y_test, all_y_pred))\n"
      ],
      "id": "2a70a1bc22c32151",
      "outputs": [
        {
          "output_type": "stream",
          "name": "stdout",
          "text": [
            "Experiment with Train Size 560: Accuracy = 0.789\n",
            "Experiment with Train Size 560: Accuracy = 0.760\n",
            "Experiment with Train Size 560: Accuracy = 0.799\n",
            "Experiment with Train Size 560: Accuracy = 0.769\n",
            "Experiment with Train Size 560: Accuracy = 0.781\n",
            "Experiment with Train Size 5600: Accuracy = 0.887\n",
            "Experiment with Train Size 5600: Accuracy = 0.883\n",
            "Experiment with Train Size 5600: Accuracy = 0.885\n",
            "Experiment with Train Size 5600: Accuracy = 0.889\n",
            "Experiment with Train Size 5600: Accuracy = 0.883\n",
            "Experiment with Train Size 17708: Accuracy = 0.897\n",
            "Experiment with Train Size 17708: Accuracy = 0.900\n",
            "Experiment with Train Size 17708: Accuracy = 0.900\n",
            "Experiment with Train Size 17708: Accuracy = 0.901\n",
            "Experiment with Train Size 17708: Accuracy = 0.896\n",
            "Experiment with Train Size 56000: Accuracy = 0.904\n",
            "Experiment with Train Size 56000: Accuracy = 0.906\n",
            "Experiment with Train Size 56000: Accuracy = 0.904\n",
            "Experiment with Train Size 56000: Accuracy = 0.905\n",
            "Experiment with Train Size 56000: Accuracy = 0.904\n"
          ]
        },
        {
          "output_type": "display_data",
          "data": {
            "text/plain": [
              "<Figure size 640x480 with 1 Axes>"
            ],
            "image/png": "[encoded data removed]"
          },
          "metadata": {}
        },
        {
          "output_type": "display_data",
          "data": {
            "text/plain": [
              "<Figure size 640x480 with 1 Axes>"
            ],
            "image/png": "[encoded data removed]"
          },
          "metadata": {}
        },
        {
          "output_type": "display_data",
          "data": {
            "text/plain": [
              "<Figure size 1000x800 with 2 Axes>"
            ],
            "image/png": "[encoded data removed]"
          },
          "metadata": {}
        },
        {
          "output_type": "stream",
          "name": "stdout",
          "text": [
            "              precision    recall  f1-score   support\n",
            "\n",
            "           0       0.97      0.83      0.89     21888\n",
            "           1       0.86      0.84      0.85     21812\n",
            "           2       0.90      0.90      0.90     20908\n",
            "           3       0.90      0.84      0.87     22360\n",
            "           4       1.00      1.00      1.00     21780\n",
            "           5       0.91      0.99      0.95     21212\n",
            "           6       0.77      0.70      0.73     21804\n",
            "           7       0.76      0.74      0.75     20580\n",
            "           8       0.85      0.98      0.91     21516\n",
            "           9       0.80      0.72      0.76     21600\n",
            "          10       0.76      0.92      0.83     21204\n",
            "          11       0.95      0.85      0.90     21260\n",
            "          12       0.87      0.96      0.91     22076\n",
            "\n",
            "    accuracy                           0.87    280000\n",
            "   macro avg       0.87      0.87      0.87    280000\n",
            "weighted avg       0.87      0.87      0.87    280000\n",
            "\n"
          ]
        }
      ],
      "execution_count": 12
    },
    {
      "metadata": {
        "ExecuteTime": {
          "end_time": "2024-09-30T09:22:38.323253700Z",
          "start_time": "2024-09-28T13:02:08.281141Z"
        },
        "colab": {
          "base_uri": "https://localhost:8080/"
        },
        "id": "dafd41df0411368b",
        "outputId": "814869a4-b428-4214-a454-ef39054ecb48"
      },
      "cell_type": "code",
      "source": [
        "import numpy as np\n",
        "from sklearn.ensemble import RandomForestClassifier\n",
        "from sklearn.metrics import accuracy_score\n",
        "\n",
        "\n",
        "def nested_cross_validation(X, y, param_grid, k_outer=5, k_inner=3):\n",
        "    outer_folds = manual_kfold(X, y, k=k_outer, random_state=42)\n",
        "    outer_scores = []\n",
        "\n",
        "\n",
        "    for fold_idx, (train_idx, test_idx) in enumerate(outer_folds):\n",
        "        X_train_outer, X_test_outer = X.iloc[train_idx], X.iloc[test_idx]\n",
        "        y_train_outer, y_test_outer = y.iloc[train_idx], y.iloc[test_idx]\n",
        "\n",
        "        best_params = None\n",
        "        best_score = -np.inf\n",
        "\n",
        "\n",
        "        inner_folds = manual_kfold(X_train_outer, y_train_outer, k=k_inner, random_state=42)\n",
        "\n",
        "        for params in param_grid:\n",
        "            inner_scores = []\n",
        "\n",
        "\n",
        "            for inner_train_idx, inner_val_idx in inner_folds:\n",
        "                X_train_inner, X_val_inner = X_train_outer.iloc[inner_train_idx], X_train_outer.iloc[inner_val_idx]\n",
        "                y_train_inner, y_val_inner = y_train_outer.iloc[inner_train_idx], y_train_outer.iloc[inner_val_idx]\n",
        "\n",
        "                model = RandomForestClassifier(n_estimators=params['n_estimators'], max_depth=params['max_depth'], random_state=42)\n",
        "                model.fit(X_train_inner, y_train_inner)\n",
        "\n",
        "                y_val_pred = model.predict(X_val_inner)\n",
        "                inner_scores.append(accuracy_score(y_val_inner, y_val_pred))\n",
        "\n",
        "            mean_inner_score = np.mean(inner_scores)\n",
        "\n",
        "\n",
        "            if mean_inner_score > best_score:\n",
        "                best_score = mean_inner_score\n",
        "                best_params = params\n",
        "\n",
        "\n",
        "        best_model = RandomForestClassifier(n_estimators=best_params['n_estimators'], max_depth=best_params['max_depth'], random_state=42)\n",
        "        best_model.fit(X_train_outer, y_train_outer)\n",
        "        y_test_pred = best_model.predict(X_test_outer)\n",
        "\n",
        "        test_accuracy = accuracy_score(y_test_outer, y_test_pred)\n",
        "        outer_scores.append(test_accuracy)\n",
        "\n",
        "        print(f\"Fold {fold_idx+1}: Best Params = {best_params}, Test Accuracy = {test_accuracy:.3f}\")\n",
        "\n",
        "\n",
        "    mean_score = np.mean(outer_scores)\n",
        "    std_score = np.std(outer_scores)\n",
        "    print(f\"Nested CV Mean Accuracy: {mean_score:.3f}, Std: {std_score:.3f}\")\n",
        "\n",
        "\n",
        "param_grid = [\n",
        "    {'n_estimators': 50, 'max_depth': 10},\n",
        "    {'n_estimators': 100, 'max_depth': 20},\n",
        "    {'n_estimators': 200, 'max_depth': None}\n",
        "]\n",
        "\n",
        "\n",
        "nested_cross_validation(X, y, param_grid)\n"
      ],
      "id": "dafd41df0411368b",
      "outputs": [
        {
          "output_type": "stream",
          "name": "stdout",
          "text": [
            "Fold 1: Best Params = {'n_estimators': 200, 'max_depth': None}, Test Accuracy = 0.901\n",
            "Fold 2: Best Params = {'n_estimators': 200, 'max_depth': None}, Test Accuracy = 0.906\n",
            "Fold 3: Best Params = {'n_estimators': 200, 'max_depth': None}, Test Accuracy = 0.905\n",
            "Fold 4: Best Params = {'n_estimators': 200, 'max_depth': None}, Test Accuracy = 0.904\n",
            "Fold 5: Best Params = {'n_estimators': 200, 'max_depth': None}, Test Accuracy = 0.898\n",
            "Nested CV Mean Accuracy: 0.903, Std: 0.003\n"
          ]
        }
      ],
      "execution_count": 13
    },
    {
      "metadata": {
        "id": "99f807555018350f"
      },
      "cell_type": "markdown",
      "source": [
        "### 3.2 Medium algorithms: MLP"
      ],
      "id": "99f807555018350f"
    },
    {
      "cell_type": "code",
      "source": [
        "from sklearn.model_selection import train_test_split\n",
        "from sklearn.preprocessing import StandardScaler\n",
        "import torch.nn as nn\n",
        "import numpy as np"
      ],
      "metadata": {
        "id": "EgxiOQMkSHjF"
      },
      "id": "EgxiOQMkSHjF",
      "execution_count": 23,
      "outputs": []
    },
    {
      "cell_type": "code",
      "source": [
        "def train_perceptron_pytorch(X_train_scaled, X_test_scaled, y_train, y_test, n_epochs=30, eta=0.01, optimizer='Adam', params=None):\n",
        "    # Convert Pandas DataFrames to NumPy arrays\n",
        "    X_train_scaled, X_test_scaled, y_train, y_test = X_train_scaled.to_numpy(), X_test_scaled.to_numpy(), y_train.to_numpy(), y_test.to_numpy()\n",
        "    # Convert to PyTorch tensors\n",
        "    X_train_scaled, X_test_scaled, y_train, y_test = torch.from_numpy(X_train_scaled), torch.from_numpy(X_test_scaled), torch.from_numpy(y_train), torch.from_numpy(y_test)\n",
        "\n",
        "\n",
        "    # Check number of classes\n",
        "    n_classes = len(torch.unique(y_train))\n",
        "\n",
        "    # Create iterable dataset in Torch format\n",
        "    train_ds = torch.utils.data.TensorDataset(X_train_scaled, y_train)\n",
        "    train_loader = torch.utils.data.DataLoader(train_ds, batch_size=32)\n",
        "    test_ds = torch.utils.data.TensorDataset(X_test_scaled, y_test)\n",
        "    test_loader = torch.utils.data.DataLoader(test_ds, batch_size=32)\n",
        "\n",
        "    # Create the multi-layer perceptron model\n",
        "    model = nn.Sequential(\n",
        "            nn.Linear(33, 128, dtype=torch.float64),\n",
        "            nn.ReLU(),\n",
        "            #nn.Dropout(0.2),\n",
        "            nn.Linear(128, 64, dtype=torch.float64),\n",
        "            nn.ReLU(),\n",
        "            #nn.Dropout(0.2),\n",
        "            nn.Linear(64, 32, dtype=torch.float64),\n",
        "            nn.ReLU(),\n",
        "            nn.Linear(32, 16, dtype=torch.float64),\n",
        "            nn.ReLU(),\n",
        "            #nn.Dropout(0.2),\n",
        "            nn.Linear(16, n_classes, dtype=torch.float64),\n",
        "            )\n",
        "\n",
        "    # Define the loss function\n",
        "    criterion = nn.CrossEntropyLoss()\n",
        "\n",
        "    # Use the provided or default parameters\n",
        "    if params:\n",
        "        n_epochs = params.get('n_epochs', n_epochs)\n",
        "        eta = params.get('eta', eta)\n",
        "        optimizer = params.get('optimizer', optimizer)\n",
        "\n",
        "\n",
        "    # Setup the optimizer. This implements the basic gradient descent update\n",
        "    if optimizer == 'SGD':\n",
        "        optimizer = torch.optim.SGD(model.parameters(), lr=eta)\n",
        "    elif optimizer == 'Momentum':\n",
        "        optimizer = torch.optim.SGD(model.parameters(), lr=eta, momentum=0.9)\n",
        "    elif optimizer == 'Adagrad':\n",
        "        optimizer = torch.optim.Adagrad(model.parameters(), lr=eta, eps=1e-10)\n",
        "    elif optimizer == 'Adam':\n",
        "        optimizer = torch.optim.Adam(model.parameters(), lr=eta)\n",
        "    else:\n",
        "        raise ValueError('Invalid optimizer')\n",
        "\n",
        "    for epoch in range(n_epochs):\n",
        "        for i, (xi, yi) in enumerate(train_loader):\n",
        "            #Compute loss F(w)\n",
        "            yi = yi.long()\n",
        "            logits = model(xi)\n",
        "            loss = criterion(logits, yi)\n",
        "\n",
        "            predictions = torch.argmax(logits, dim=1)\n",
        "            train_acc = torch.mean(torch.eq(predictions, yi).float()).item()\n",
        "\n",
        "            loss.backward()               # Backward pass (compute parameter gradients)\n",
        "            optimizer.step()              # Update weight parameter using SGD\n",
        "            optimizer.zero_grad()         # Reset gradients to zero for next ieration\n",
        "\n",
        "    # Evaluate the model, not necessary for training\n",
        "    with torch.no_grad():\n",
        "        for xi, yi in test_loader:\n",
        "            yi = yi.long()\n",
        "            logits = model(xi)\n",
        "            loss = criterion(logits, yi)\n",
        "            predictions = torch.argmax(logits, dim=1)\n",
        "            accuracy = torch.mean(torch.eq(predictions, yi).float()).item()\n",
        "\n",
        "    return accuracy"
      ],
      "metadata": {
        "id": "NqAeA6mjRjeN"
      },
      "id": "NqAeA6mjRjeN",
      "execution_count": 24,
      "outputs": []
    },
    {
      "cell_type": "code",
      "source": [
        "def nested_cross_validation(X, y, param_grid, outer_k=5, inner_k=3, n_epochs=30, eta=0.01, optimizer='Adam'):\n",
        "    outer_kf = manual_kfold(X, y, k=outer_k, random_state=42)\n",
        "    outer_scores = []\n",
        "\n",
        "    for outer_fold, (train_index, test_index) in enumerate(outer_kf):\n",
        "        #print(f\"Outer Fold {outer_fold + 1}\")\n",
        "        X_train, X_test = X.iloc[train_index], X.iloc[test_index]\n",
        "        y_train, y_test = y.iloc[train_index], y.iloc[test_index]\n",
        "\n",
        "        best_params = None\n",
        "        best_score = -np.inf\n",
        "\n",
        "        inner_kf = manual_kfold(X_train, y_train, k=inner_k, random_state=42)\n",
        "\n",
        "        for params in param_grid:\n",
        "            inner_scores = []\n",
        "            for inner_fold, (inner_train_index, inner_val_index) in enumerate(inner_kf):\n",
        "                X_train_inner, X_val_inner = X_train.iloc[inner_train_index], X_train.iloc[inner_val_index]\n",
        "                y_train_inner, y_val_inner = y_train.iloc[inner_train_index], y_train.iloc[inner_val_index]\n",
        "\n",
        "                # Scaling\n",
        "                scaler = StandardScaler()\n",
        "                X_train_inner_scaled = scaler.fit_transform(X_train_inner)\n",
        "                X_val_inner_scaled = scaler.transform(X_val_inner)\n",
        "\n",
        "                # Convert to Pandas DataFrame\n",
        "                X_train_inner_scaled = pd.DataFrame(X_train_inner_scaled, columns=X_train_inner.columns)\n",
        "                X_val_inner_scaled = pd.DataFrame(X_val_inner_scaled, columns=X_val_inner.columns)\n",
        "\n",
        "                # Train model\n",
        "                val_acc = train_perceptron_pytorch(X_train_inner_scaled, X_val_inner_scaled, y_train_inner, y_val_inner, n_epochs, eta, optimizer, params)\n",
        "                inner_scores.append(val_acc)\n",
        "\n",
        "            mean_inner_score = np.mean(inner_scores)\n",
        "            if mean_inner_score > best_score:\n",
        "                best_score = mean_inner_score\n",
        "                best_params = params\n",
        "\n",
        "        # Train the model with the best parameters\n",
        "        scaler = StandardScaler()\n",
        "        X_train_scaled = scaler.fit_transform(X_train)\n",
        "        X_test_scaled = scaler.transform(X_test)\n",
        "\n",
        "        # Convert to Pandas DataFrame\n",
        "        X_train_scaled = pd.DataFrame(X_train_scaled, columns=X_train.columns)\n",
        "        X_test_scaled = pd.DataFrame(X_test_scaled, columns=X_test.columns)\n",
        "\n",
        "        test_acc = train_perceptron_pytorch(X_train_scaled, X_test_scaled, y_train, y_test, n_epochs, eta, optimizer, best_params)\n",
        "        outer_scores.append(test_acc)\n",
        "\n",
        "        print(f\"Outer Fold {outer_fold + 1}: Best Params = {best_params}, Test Accuracy = {test_acc:.3f}\")\n",
        "\n",
        "    mean_score = np.mean(outer_scores)\n",
        "    std_score = np.std(outer_scores)\n",
        "    print(f\"Nested CV Mean Accuracy: {mean_score:.3f}, Std: {std_score:.3f}\")\n",
        "\n",
        "\n",
        "param_grid = [\n",
        "    {'n_epochs': 20, 'eta': 0.01, 'optimizer': 'Momentum'},\n",
        "    {'n_epochs': 30, 'eta': 0.01, 'optimizer': 'Momentum'},\n",
        "    {'n_epochs': 20, 'eta': 0.01, 'optimizer': 'Adam'},\n",
        "    {'n_epochs': 30, 'eta': 0.01, 'optimizer': 'Adam'}\n",
        "]\n",
        "\n",
        "\n",
        "nested_cross_validation(X, y, param_grid, outer_k=5, inner_k=3, n_epochs=30, eta=0.01, optimizer='Adam')"
      ],
      "metadata": {
        "colab": {
          "base_uri": "https://localhost:8080/"
        },
        "id": "FuTTA-ZNUWJU",
        "outputId": "3600bd01-1aee-44f6-f0f4-1d933d9ba51b"
      },
      "id": "FuTTA-ZNUWJU",
      "execution_count": 28,
      "outputs": [
        {
          "output_type": "stream",
          "name": "stdout",
          "text": [
            "Outer Fold 1: Best Params = {'n_epochs': 20, 'eta': 0.01, 'optimizer': 'Adam'}, Test Accuracy = 0.812\n",
            "Outer Fold 2: Best Params = {'n_epochs': 20, 'eta': 0.01, 'optimizer': 'Adam'}, Test Accuracy = 0.750\n",
            "Outer Fold 3: Best Params = {'n_epochs': 30, 'eta': 0.01, 'optimizer': 'Momentum'}, Test Accuracy = 0.812\n",
            "Outer Fold 4: Best Params = {'n_epochs': 30, 'eta': 0.01, 'optimizer': 'Momentum'}, Test Accuracy = 0.625\n",
            "Outer Fold 5: Best Params = {'n_epochs': 20, 'eta': 0.01, 'optimizer': 'Adam'}, Test Accuracy = 0.812\n",
            "Nested CV Mean Accuracy: 0.762, Std: 0.073\n"
          ]
        }
      ]
    },
    {
      "metadata": {
        "id": "cd61492827ab58e5"
      },
      "cell_type": "markdown",
      "source": [],
      "id": "cd61492827ab58e5"
    },
    {
      "metadata": {
        "ExecuteTime": {
          "end_time": "2024-09-30T09:22:38.324251600Z",
          "start_time": "2024-09-28T12:19:46.709845Z"
        },
        "id": "4a4cdff795127ee0"
      },
      "cell_type": "code",
      "source": [],
      "id": "4a4cdff795127ee0",
      "outputs": [],
      "execution_count": 13
    }
  ],
  "metadata": {
    "kernelspec": {
      "display_name": "Python 3",
      "name": "python3"
    },
    "language_info": {
      "codemirror_mode": {
        "name": "ipython",
        "version": 2
      },
      "file_extension": ".py",
      "mimetype": "text/x-python",
      "name": "python",
      "nbconvert_exporter": "python",
      "pygments_lexer": "ipython2",
      "version": "2.7.6"
    },
    "colab": {
      "provenance": [],
      "gpuType": "T4"
    },
    "accelerator": "GPU"
  },
  "nbformat": 4,
  "nbformat_minor": 5
}